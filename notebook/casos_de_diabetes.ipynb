{
  "nbformat": 4,
  "nbformat_minor": 0,
  "metadata": {
    "colab": {
      "name": "DSA - Prever Diabetes.ipynb",
      "version": "0.3.2",
      "provenance": []
    },
    "kernelspec": {
      "name": "python3",
      "display_name": "Python 3"
    }
  },
  "cells": [
    {
      "cell_type": "markdown",
      "metadata": {
        "id": "1yhGliBI5RyD",
        "colab_type": "text"
      },
      "source": [
        "## Análise Exploratória e Criação de modelos de ML para casos de Diabetes"
      ]
    },
    {
      "cell_type": "code",
      "metadata": {
        "id": "TQcLhXUsRo-_",
        "colab_type": "code",
        "colab": {}
      },
      "source": [
        "# importando as bibliotecas para manipulação dos dados\n",
        "import pandas as pd                 \n",
        "import matplotlib.pyplot as plt    \n",
        "import numpy as np                \n",
        "import warnings\n",
        "from sklearn.impute import SimpleImputer\n",
        "from sklearn.model_selection import train_test_split\n",
        "%matplotlib inline\n",
        "warnings.filterwarnings('ignore')"
      ],
      "execution_count": 0,
      "outputs": []
    },
    {
      "cell_type": "code",
      "metadata": {
        "id": "y9m-ELWkWjNW",
        "colab_type": "code",
        "colab": {}
      },
      "source": [
        "df = pd.read_csv('https://gist.githubusercontent.com/cicerojmm/4738eb1510d32820abb17ecea8f9ed1c/raw/239e0c0c8ad1680afb7995bba69db06099c0c484/diabetes_dados_uci.csv')"
      ],
      "execution_count": 0,
      "outputs": []
    },
    {
      "cell_type": "code",
      "metadata": {
        "id": "04upK1yzXfMj",
        "colab_type": "code",
        "outputId": "ab16df78-1e8e-442f-ba5a-f0e2d072e250",
        "colab": {
          "base_uri": "https://localhost:8080/",
          "height": 206
        }
      },
      "source": [
        "df.head()"
      ],
      "execution_count": 0,
      "outputs": [
        {
          "output_type": "execute_result",
          "data": {
            "text/html": [
              "<div>\n",
              "<style scoped>\n",
              "    .dataframe tbody tr th:only-of-type {\n",
              "        vertical-align: middle;\n",
              "    }\n",
              "\n",
              "    .dataframe tbody tr th {\n",
              "        vertical-align: top;\n",
              "    }\n",
              "\n",
              "    .dataframe thead th {\n",
              "        text-align: right;\n",
              "    }\n",
              "</style>\n",
              "<table border=\"1\" class=\"dataframe\">\n",
              "  <thead>\n",
              "    <tr style=\"text-align: right;\">\n",
              "      <th></th>\n",
              "      <th>Pregnancies</th>\n",
              "      <th>Glucose</th>\n",
              "      <th>BloodPressure</th>\n",
              "      <th>SkinThickness</th>\n",
              "      <th>Insulin</th>\n",
              "      <th>BMI</th>\n",
              "      <th>DiabetesPedigreeFunction</th>\n",
              "      <th>Age</th>\n",
              "      <th>Outcome</th>\n",
              "    </tr>\n",
              "  </thead>\n",
              "  <tbody>\n",
              "    <tr>\n",
              "      <th>0</th>\n",
              "      <td>6</td>\n",
              "      <td>148</td>\n",
              "      <td>72</td>\n",
              "      <td>35</td>\n",
              "      <td>0</td>\n",
              "      <td>33.6</td>\n",
              "      <td>0.627</td>\n",
              "      <td>50</td>\n",
              "      <td>1</td>\n",
              "    </tr>\n",
              "    <tr>\n",
              "      <th>1</th>\n",
              "      <td>1</td>\n",
              "      <td>85</td>\n",
              "      <td>66</td>\n",
              "      <td>29</td>\n",
              "      <td>0</td>\n",
              "      <td>26.6</td>\n",
              "      <td>0.351</td>\n",
              "      <td>31</td>\n",
              "      <td>0</td>\n",
              "    </tr>\n",
              "    <tr>\n",
              "      <th>2</th>\n",
              "      <td>8</td>\n",
              "      <td>183</td>\n",
              "      <td>64</td>\n",
              "      <td>0</td>\n",
              "      <td>0</td>\n",
              "      <td>23.3</td>\n",
              "      <td>0.672</td>\n",
              "      <td>32</td>\n",
              "      <td>1</td>\n",
              "    </tr>\n",
              "    <tr>\n",
              "      <th>3</th>\n",
              "      <td>1</td>\n",
              "      <td>89</td>\n",
              "      <td>66</td>\n",
              "      <td>23</td>\n",
              "      <td>94</td>\n",
              "      <td>28.1</td>\n",
              "      <td>0.167</td>\n",
              "      <td>21</td>\n",
              "      <td>0</td>\n",
              "    </tr>\n",
              "    <tr>\n",
              "      <th>4</th>\n",
              "      <td>0</td>\n",
              "      <td>137</td>\n",
              "      <td>40</td>\n",
              "      <td>35</td>\n",
              "      <td>168</td>\n",
              "      <td>43.1</td>\n",
              "      <td>2.288</td>\n",
              "      <td>33</td>\n",
              "      <td>1</td>\n",
              "    </tr>\n",
              "  </tbody>\n",
              "</table>\n",
              "</div>"
            ],
            "text/plain": [
              "   Pregnancies  Glucose  BloodPressure  SkinThickness  Insulin   BMI  \\\n",
              "0            6      148             72             35        0  33.6   \n",
              "1            1       85             66             29        0  26.6   \n",
              "2            8      183             64              0        0  23.3   \n",
              "3            1       89             66             23       94  28.1   \n",
              "4            0      137             40             35      168  43.1   \n",
              "\n",
              "   DiabetesPedigreeFunction  Age  Outcome  \n",
              "0                     0.627   50        1  \n",
              "1                     0.351   31        0  \n",
              "2                     0.672   32        1  \n",
              "3                     0.167   21        0  \n",
              "4                     2.288   33        1  "
            ]
          },
          "metadata": {
            "tags": []
          },
          "execution_count": 5
        }
      ]
    },
    {
      "cell_type": "code",
      "metadata": {
        "id": "0NQprL67Xg2-",
        "colab_type": "code",
        "colab": {}
      },
      "source": [
        "colunas = {'Pregnancies': 'numero_gravidez', 'Glucose': 'glicose', 'BloodPressure': 'pressao_sanguinea', \n",
        "           'SkinThickness': 'espessura_pele_triceps', 'Insulin': 'insulina', 'BMI': 'imc', \n",
        "           'DiabetesPedigreeFunction': 'funcao_diabetes', 'Age': 'idade', 'Outcome': 'possui_diabetes'}"
      ],
      "execution_count": 0,
      "outputs": []
    },
    {
      "cell_type": "code",
      "metadata": {
        "id": "2zi8vv71Y58q",
        "colab_type": "code",
        "colab": {}
      },
      "source": [
        "df = df.rename(columns= colunas)\n",
        "df.columns = df.columns.str.upper()"
      ],
      "execution_count": 0,
      "outputs": []
    },
    {
      "cell_type": "code",
      "metadata": {
        "id": "TxaIzvUSZTGN",
        "colab_type": "code",
        "outputId": "7953b8e5-9a72-40ff-bd0e-881a2242bbb2",
        "colab": {
          "base_uri": "https://localhost:8080/",
          "height": 206
        }
      },
      "source": [
        "df.head()"
      ],
      "execution_count": 0,
      "outputs": [
        {
          "output_type": "execute_result",
          "data": {
            "text/html": [
              "<div>\n",
              "<style scoped>\n",
              "    .dataframe tbody tr th:only-of-type {\n",
              "        vertical-align: middle;\n",
              "    }\n",
              "\n",
              "    .dataframe tbody tr th {\n",
              "        vertical-align: top;\n",
              "    }\n",
              "\n",
              "    .dataframe thead th {\n",
              "        text-align: right;\n",
              "    }\n",
              "</style>\n",
              "<table border=\"1\" class=\"dataframe\">\n",
              "  <thead>\n",
              "    <tr style=\"text-align: right;\">\n",
              "      <th></th>\n",
              "      <th>NUMERO_GRAVIDEZ</th>\n",
              "      <th>GLICOSE</th>\n",
              "      <th>PRESSAO_SANGUINEA</th>\n",
              "      <th>ESPESSURA_PELE_TRICEPS</th>\n",
              "      <th>INSULINA</th>\n",
              "      <th>IMC</th>\n",
              "      <th>FUNCAO_DIABETES</th>\n",
              "      <th>IDADE</th>\n",
              "      <th>POSSUI_DIABETES</th>\n",
              "    </tr>\n",
              "  </thead>\n",
              "  <tbody>\n",
              "    <tr>\n",
              "      <th>0</th>\n",
              "      <td>6</td>\n",
              "      <td>148</td>\n",
              "      <td>72</td>\n",
              "      <td>35</td>\n",
              "      <td>0</td>\n",
              "      <td>33.6</td>\n",
              "      <td>0.627</td>\n",
              "      <td>50</td>\n",
              "      <td>1</td>\n",
              "    </tr>\n",
              "    <tr>\n",
              "      <th>1</th>\n",
              "      <td>1</td>\n",
              "      <td>85</td>\n",
              "      <td>66</td>\n",
              "      <td>29</td>\n",
              "      <td>0</td>\n",
              "      <td>26.6</td>\n",
              "      <td>0.351</td>\n",
              "      <td>31</td>\n",
              "      <td>0</td>\n",
              "    </tr>\n",
              "    <tr>\n",
              "      <th>2</th>\n",
              "      <td>8</td>\n",
              "      <td>183</td>\n",
              "      <td>64</td>\n",
              "      <td>0</td>\n",
              "      <td>0</td>\n",
              "      <td>23.3</td>\n",
              "      <td>0.672</td>\n",
              "      <td>32</td>\n",
              "      <td>1</td>\n",
              "    </tr>\n",
              "    <tr>\n",
              "      <th>3</th>\n",
              "      <td>1</td>\n",
              "      <td>89</td>\n",
              "      <td>66</td>\n",
              "      <td>23</td>\n",
              "      <td>94</td>\n",
              "      <td>28.1</td>\n",
              "      <td>0.167</td>\n",
              "      <td>21</td>\n",
              "      <td>0</td>\n",
              "    </tr>\n",
              "    <tr>\n",
              "      <th>4</th>\n",
              "      <td>0</td>\n",
              "      <td>137</td>\n",
              "      <td>40</td>\n",
              "      <td>35</td>\n",
              "      <td>168</td>\n",
              "      <td>43.1</td>\n",
              "      <td>2.288</td>\n",
              "      <td>33</td>\n",
              "      <td>1</td>\n",
              "    </tr>\n",
              "  </tbody>\n",
              "</table>\n",
              "</div>"
            ],
            "text/plain": [
              "   NUMERO_GRAVIDEZ  GLICOSE  PRESSAO_SANGUINEA  ESPESSURA_PELE_TRICEPS  \\\n",
              "0                6      148                 72                      35   \n",
              "1                1       85                 66                      29   \n",
              "2                8      183                 64                       0   \n",
              "3                1       89                 66                      23   \n",
              "4                0      137                 40                      35   \n",
              "\n",
              "   INSULINA   IMC  FUNCAO_DIABETES  IDADE  POSSUI_DIABETES  \n",
              "0         0  33.6            0.627     50                1  \n",
              "1         0  26.6            0.351     31                0  \n",
              "2         0  23.3            0.672     32                1  \n",
              "3        94  28.1            0.167     21                0  \n",
              "4       168  43.1            2.288     33                1  "
            ]
          },
          "metadata": {
            "tags": []
          },
          "execution_count": 8
        }
      ]
    },
    {
      "cell_type": "code",
      "metadata": {
        "id": "ubum1ZtUZUi_",
        "colab_type": "code",
        "outputId": "e8d7cdaf-aea8-42a2-a208-c0c437f1263b",
        "colab": {
          "base_uri": "https://localhost:8080/",
          "height": 35
        }
      },
      "source": [
        "df.shape"
      ],
      "execution_count": 0,
      "outputs": [
        {
          "output_type": "execute_result",
          "data": {
            "text/plain": [
              "(768, 9)"
            ]
          },
          "metadata": {
            "tags": []
          },
          "execution_count": 9
        }
      ]
    },
    {
      "cell_type": "code",
      "metadata": {
        "id": "lGwpFM9HadA0",
        "colab_type": "code",
        "outputId": "608c0638-303b-49be-e05e-8006b41330f6",
        "colab": {
          "base_uri": "https://localhost:8080/",
          "height": 35
        }
      },
      "source": [
        "df.isnull().values.any()"
      ],
      "execution_count": 0,
      "outputs": [
        {
          "output_type": "execute_result",
          "data": {
            "text/plain": [
              "False"
            ]
          },
          "metadata": {
            "tags": []
          },
          "execution_count": 10
        }
      ]
    },
    {
      "cell_type": "markdown",
      "metadata": {
        "id": "AuRImLuL4NjF",
        "colab_type": "text"
      },
      "source": [
        "### Iniciando a Análise Exploratória"
      ]
    },
    {
      "cell_type": "code",
      "metadata": {
        "id": "FgJwpuMFaldU",
        "colab_type": "code",
        "colab": {}
      },
      "source": [
        "def plotar_correlacao(df, size=10):\n",
        "    corr = df.corr()    \n",
        "    fig, ax = plt.subplots(figsize = (size, size))\n",
        "    ax.matshow(corr)  \n",
        "    plt.xticks(range(len(corr.columns)), corr.columns) \n",
        "    plt.yticks(range(len(corr.columns)), corr.columns)"
      ],
      "execution_count": 0,
      "outputs": []
    },
    {
      "cell_type": "code",
      "metadata": {
        "id": "49mGWDWda0UM",
        "colab_type": "code",
        "outputId": "c6dff8ae-4142-4d23-ec9e-a420cd443374",
        "colab": {
          "base_uri": "https://localhost:8080/",
          "height": 596
        }
      },
      "source": [
        "plotar_correlacao(df)"
      ],
      "execution_count": 0,
      "outputs": [
        {
          "output_type": "display_data",
          "data": {
            "image/png": "[encoded data removed]",
            "text/plain": [
              "<Figure size 720x720 with 1 Axes>"
            ]
          },
          "metadata": {
            "tags": []
          }
        }
      ]
    },
    {
      "cell_type": "code",
      "metadata": {
        "id": "lzY2dmtba2GD",
        "colab_type": "code",
        "outputId": "a59938b9-450e-412b-fee2-dbf4b87e512e",
        "colab": {
          "base_uri": "https://localhost:8080/",
          "height": 332
        }
      },
      "source": [
        "df.corr() > 0.5"
      ],
      "execution_count": 0,
      "outputs": [
        {
          "output_type": "execute_result",
          "data": {
            "text/html": [
              "<div>\n",
              "<style scoped>\n",
              "    .dataframe tbody tr th:only-of-type {\n",
              "        vertical-align: middle;\n",
              "    }\n",
              "\n",
              "    .dataframe tbody tr th {\n",
              "        vertical-align: top;\n",
              "    }\n",
              "\n",
              "    .dataframe thead th {\n",
              "        text-align: right;\n",
              "    }\n",
              "</style>\n",
              "<table border=\"1\" class=\"dataframe\">\n",
              "  <thead>\n",
              "    <tr style=\"text-align: right;\">\n",
              "      <th></th>\n",
              "      <th>NUMERO_GRAVIDEZ</th>\n",
              "      <th>GLICOSE</th>\n",
              "      <th>PRESSAO_SANGUINEA</th>\n",
              "      <th>ESPESSURA_PELE_TRICEPS</th>\n",
              "      <th>INSULINA</th>\n",
              "      <th>IMC</th>\n",
              "      <th>FUNCAO_DIABETES</th>\n",
              "      <th>IDADE</th>\n",
              "      <th>POSSUI_DIABETES</th>\n",
              "    </tr>\n",
              "  </thead>\n",
              "  <tbody>\n",
              "    <tr>\n",
              "      <th>NUMERO_GRAVIDEZ</th>\n",
              "      <td>True</td>\n",
              "      <td>False</td>\n",
              "      <td>False</td>\n",
              "      <td>False</td>\n",
              "      <td>False</td>\n",
              "      <td>False</td>\n",
              "      <td>False</td>\n",
              "      <td>True</td>\n",
              "      <td>False</td>\n",
              "    </tr>\n",
              "    <tr>\n",
              "      <th>GLICOSE</th>\n",
              "      <td>False</td>\n",
              "      <td>True</td>\n",
              "      <td>False</td>\n",
              "      <td>False</td>\n",
              "      <td>False</td>\n",
              "      <td>False</td>\n",
              "      <td>False</td>\n",
              "      <td>False</td>\n",
              "      <td>False</td>\n",
              "    </tr>\n",
              "    <tr>\n",
              "      <th>PRESSAO_SANGUINEA</th>\n",
              "      <td>False</td>\n",
              "      <td>False</td>\n",
              "      <td>True</td>\n",
              "      <td>False</td>\n",
              "      <td>False</td>\n",
              "      <td>False</td>\n",
              "      <td>False</td>\n",
              "      <td>False</td>\n",
              "      <td>False</td>\n",
              "    </tr>\n",
              "    <tr>\n",
              "      <th>ESPESSURA_PELE_TRICEPS</th>\n",
              "      <td>False</td>\n",
              "      <td>False</td>\n",
              "      <td>False</td>\n",
              "      <td>True</td>\n",
              "      <td>False</td>\n",
              "      <td>False</td>\n",
              "      <td>False</td>\n",
              "      <td>False</td>\n",
              "      <td>False</td>\n",
              "    </tr>\n",
              "    <tr>\n",
              "      <th>INSULINA</th>\n",
              "      <td>False</td>\n",
              "      <td>False</td>\n",
              "      <td>False</td>\n",
              "      <td>False</td>\n",
              "      <td>True</td>\n",
              "      <td>False</td>\n",
              "      <td>False</td>\n",
              "      <td>False</td>\n",
              "      <td>False</td>\n",
              "    </tr>\n",
              "    <tr>\n",
              "      <th>IMC</th>\n",
              "      <td>False</td>\n",
              "      <td>False</td>\n",
              "      <td>False</td>\n",
              "      <td>False</td>\n",
              "      <td>False</td>\n",
              "      <td>True</td>\n",
              "      <td>False</td>\n",
              "      <td>False</td>\n",
              "      <td>False</td>\n",
              "    </tr>\n",
              "    <tr>\n",
              "      <th>FUNCAO_DIABETES</th>\n",
              "      <td>False</td>\n",
              "      <td>False</td>\n",
              "      <td>False</td>\n",
              "      <td>False</td>\n",
              "      <td>False</td>\n",
              "      <td>False</td>\n",
              "      <td>True</td>\n",
              "      <td>False</td>\n",
              "      <td>False</td>\n",
              "    </tr>\n",
              "    <tr>\n",
              "      <th>IDADE</th>\n",
              "      <td>True</td>\n",
              "      <td>False</td>\n",
              "      <td>False</td>\n",
              "      <td>False</td>\n",
              "      <td>False</td>\n",
              "      <td>False</td>\n",
              "      <td>False</td>\n",
              "      <td>True</td>\n",
              "      <td>False</td>\n",
              "    </tr>\n",
              "    <tr>\n",
              "      <th>POSSUI_DIABETES</th>\n",
              "      <td>False</td>\n",
              "      <td>False</td>\n",
              "      <td>False</td>\n",
              "      <td>False</td>\n",
              "      <td>False</td>\n",
              "      <td>False</td>\n",
              "      <td>False</td>\n",
              "      <td>False</td>\n",
              "      <td>True</td>\n",
              "    </tr>\n",
              "  </tbody>\n",
              "</table>\n",
              "</div>"
            ],
            "text/plain": [
              "                        NUMERO_GRAVIDEZ  GLICOSE  PRESSAO_SANGUINEA  \\\n",
              "NUMERO_GRAVIDEZ                    True    False              False   \n",
              "GLICOSE                           False     True              False   \n",
              "PRESSAO_SANGUINEA                 False    False               True   \n",
              "ESPESSURA_PELE_TRICEPS            False    False              False   \n",
              "INSULINA                          False    False              False   \n",
              "IMC                               False    False              False   \n",
              "FUNCAO_DIABETES                   False    False              False   \n",
              "IDADE                              True    False              False   \n",
              "POSSUI_DIABETES                   False    False              False   \n",
              "\n",
              "                        ESPESSURA_PELE_TRICEPS  INSULINA    IMC  \\\n",
              "NUMERO_GRAVIDEZ                          False     False  False   \n",
              "GLICOSE                                  False     False  False   \n",
              "PRESSAO_SANGUINEA                        False     False  False   \n",
              "ESPESSURA_PELE_TRICEPS                    True     False  False   \n",
              "INSULINA                                 False      True  False   \n",
              "IMC                                      False     False   True   \n",
              "FUNCAO_DIABETES                          False     False  False   \n",
              "IDADE                                    False     False  False   \n",
              "POSSUI_DIABETES                          False     False  False   \n",
              "\n",
              "                        FUNCAO_DIABETES  IDADE  POSSUI_DIABETES  \n",
              "NUMERO_GRAVIDEZ                   False   True            False  \n",
              "GLICOSE                           False  False            False  \n",
              "PRESSAO_SANGUINEA                 False  False            False  \n",
              "ESPESSURA_PELE_TRICEPS            False  False            False  \n",
              "INSULINA                          False  False            False  \n",
              "IMC                               False  False            False  \n",
              "FUNCAO_DIABETES                    True  False            False  \n",
              "IDADE                             False   True            False  \n",
              "POSSUI_DIABETES                   False  False             True  "
            ]
          },
          "metadata": {
            "tags": []
          },
          "execution_count": 13
        }
      ]
    },
    {
      "cell_type": "code",
      "metadata": {
        "id": "uHUiWN1Ia4cM",
        "colab_type": "code",
        "outputId": "d7c9755c-c7bc-4e7f-fdd0-f1feee72cd4b",
        "colab": {
          "base_uri": "https://localhost:8080/",
          "height": 300
        }
      },
      "source": [
        "df.describe()"
      ],
      "execution_count": 0,
      "outputs": [
        {
          "output_type": "execute_result",
          "data": {
            "text/html": [
              "<div>\n",
              "<style scoped>\n",
              "    .dataframe tbody tr th:only-of-type {\n",
              "        vertical-align: middle;\n",
              "    }\n",
              "\n",
              "    .dataframe tbody tr th {\n",
              "        vertical-align: top;\n",
              "    }\n",
              "\n",
              "    .dataframe thead th {\n",
              "        text-align: right;\n",
              "    }\n",
              "</style>\n",
              "<table border=\"1\" class=\"dataframe\">\n",
              "  <thead>\n",
              "    <tr style=\"text-align: right;\">\n",
              "      <th></th>\n",
              "      <th>NUMERO_GRAVIDEZ</th>\n",
              "      <th>GLICOSE</th>\n",
              "      <th>PRESSAO_SANGUINEA</th>\n",
              "      <th>ESPESSURA_PELE_TRICEPS</th>\n",
              "      <th>INSULINA</th>\n",
              "      <th>IMC</th>\n",
              "      <th>FUNCAO_DIABETES</th>\n",
              "      <th>IDADE</th>\n",
              "      <th>POSSUI_DIABETES</th>\n",
              "    </tr>\n",
              "  </thead>\n",
              "  <tbody>\n",
              "    <tr>\n",
              "      <th>count</th>\n",
              "      <td>768.000000</td>\n",
              "      <td>768.000000</td>\n",
              "      <td>768.000000</td>\n",
              "      <td>768.000000</td>\n",
              "      <td>768.000000</td>\n",
              "      <td>768.000000</td>\n",
              "      <td>768.000000</td>\n",
              "      <td>768.000000</td>\n",
              "      <td>768.000000</td>\n",
              "    </tr>\n",
              "    <tr>\n",
              "      <th>mean</th>\n",
              "      <td>3.845052</td>\n",
              "      <td>120.894531</td>\n",
              "      <td>69.105469</td>\n",
              "      <td>20.536458</td>\n",
              "      <td>79.799479</td>\n",
              "      <td>31.992578</td>\n",
              "      <td>0.471876</td>\n",
              "      <td>33.240885</td>\n",
              "      <td>0.348958</td>\n",
              "    </tr>\n",
              "    <tr>\n",
              "      <th>std</th>\n",
              "      <td>3.369578</td>\n",
              "      <td>31.972618</td>\n",
              "      <td>19.355807</td>\n",
              "      <td>15.952218</td>\n",
              "      <td>115.244002</td>\n",
              "      <td>7.884160</td>\n",
              "      <td>0.331329</td>\n",
              "      <td>11.760232</td>\n",
              "      <td>0.476951</td>\n",
              "    </tr>\n",
              "    <tr>\n",
              "      <th>min</th>\n",
              "      <td>0.000000</td>\n",
              "      <td>0.000000</td>\n",
              "      <td>0.000000</td>\n",
              "      <td>0.000000</td>\n",
              "      <td>0.000000</td>\n",
              "      <td>0.000000</td>\n",
              "      <td>0.078000</td>\n",
              "      <td>21.000000</td>\n",
              "      <td>0.000000</td>\n",
              "    </tr>\n",
              "    <tr>\n",
              "      <th>25%</th>\n",
              "      <td>1.000000</td>\n",
              "      <td>99.000000</td>\n",
              "      <td>62.000000</td>\n",
              "      <td>0.000000</td>\n",
              "      <td>0.000000</td>\n",
              "      <td>27.300000</td>\n",
              "      <td>0.243750</td>\n",
              "      <td>24.000000</td>\n",
              "      <td>0.000000</td>\n",
              "    </tr>\n",
              "    <tr>\n",
              "      <th>50%</th>\n",
              "      <td>3.000000</td>\n",
              "      <td>117.000000</td>\n",
              "      <td>72.000000</td>\n",
              "      <td>23.000000</td>\n",
              "      <td>30.500000</td>\n",
              "      <td>32.000000</td>\n",
              "      <td>0.372500</td>\n",
              "      <td>29.000000</td>\n",
              "      <td>0.000000</td>\n",
              "    </tr>\n",
              "    <tr>\n",
              "      <th>75%</th>\n",
              "      <td>6.000000</td>\n",
              "      <td>140.250000</td>\n",
              "      <td>80.000000</td>\n",
              "      <td>32.000000</td>\n",
              "      <td>127.250000</td>\n",
              "      <td>36.600000</td>\n",
              "      <td>0.626250</td>\n",
              "      <td>41.000000</td>\n",
              "      <td>1.000000</td>\n",
              "    </tr>\n",
              "    <tr>\n",
              "      <th>max</th>\n",
              "      <td>17.000000</td>\n",
              "      <td>199.000000</td>\n",
              "      <td>122.000000</td>\n",
              "      <td>99.000000</td>\n",
              "      <td>846.000000</td>\n",
              "      <td>67.100000</td>\n",
              "      <td>2.420000</td>\n",
              "      <td>81.000000</td>\n",
              "      <td>1.000000</td>\n",
              "    </tr>\n",
              "  </tbody>\n",
              "</table>\n",
              "</div>"
            ],
            "text/plain": [
              "       NUMERO_GRAVIDEZ     GLICOSE  PRESSAO_SANGUINEA  ESPESSURA_PELE_TRICEPS  \\\n",
              "count       768.000000  768.000000         768.000000              768.000000   \n",
              "mean          3.845052  120.894531          69.105469               20.536458   \n",
              "std           3.369578   31.972618          19.355807               15.952218   \n",
              "min           0.000000    0.000000           0.000000                0.000000   \n",
              "25%           1.000000   99.000000          62.000000                0.000000   \n",
              "50%           3.000000  117.000000          72.000000               23.000000   \n",
              "75%           6.000000  140.250000          80.000000               32.000000   \n",
              "max          17.000000  199.000000         122.000000               99.000000   \n",
              "\n",
              "         INSULINA         IMC  FUNCAO_DIABETES       IDADE  POSSUI_DIABETES  \n",
              "count  768.000000  768.000000       768.000000  768.000000       768.000000  \n",
              "mean    79.799479   31.992578         0.471876   33.240885         0.348958  \n",
              "std    115.244002    7.884160         0.331329   11.760232         0.476951  \n",
              "min      0.000000    0.000000         0.078000   21.000000         0.000000  \n",
              "25%      0.000000   27.300000         0.243750   24.000000         0.000000  \n",
              "50%     30.500000   32.000000         0.372500   29.000000         0.000000  \n",
              "75%    127.250000   36.600000         0.626250   41.000000         1.000000  \n",
              "max    846.000000   67.100000         2.420000   81.000000         1.000000  "
            ]
          },
          "metadata": {
            "tags": []
          },
          "execution_count": 14
        }
      ]
    },
    {
      "cell_type": "code",
      "metadata": {
        "id": "4Pkow8AWmveQ",
        "colab_type": "code",
        "outputId": "4e3de6bc-abb3-45c1-df65-3b59b8a116d1",
        "colab": {
          "base_uri": "https://localhost:8080/",
          "height": 269
        }
      },
      "source": [
        "plt.scatter(df.NUMERO_GRAVIDEZ, df.POSSUI_DIABETES)\n",
        "plt.show()"
      ],
      "execution_count": 0,
      "outputs": [
        {
          "output_type": "display_data",
          "data": {
            "image/png": "[encoded data removed]",
            "text/plain": [
              "<Figure size 432x288 with 1 Axes>"
            ]
          },
          "metadata": {
            "tags": []
          }
        }
      ]
    },
    {
      "cell_type": "code",
      "metadata": {
        "id": "MuqasK01qMux",
        "colab_type": "code",
        "outputId": "14eac4fc-4bf3-4d67-e379-2a071af403fd",
        "colab": {
          "base_uri": "https://localhost:8080/",
          "height": 283
        }
      },
      "source": [
        "# Criando subset dos dados\n",
        "df2 = df.copy()\n",
        "\n",
        "# Definindo os valores de x e y\n",
        "x = df2.NUMERO_GRAVIDEZ\n",
        "y = df2.IDADE\n",
        "\n",
        "# Computando os valores e gerando o gráfico\n",
        "m, b = np.polyfit(x, y, 1)\n",
        "plt.plot(x, y, '.')\n",
        "plt.plot(x, m*x + b, '-', color = \"red\")\n",
        "plt.xlabel(\"Quantidade de gravidez\")\n",
        "plt.ylabel(\"Idade\")\n",
        "plt.title(\"\")\n",
        "plt.show()"
      ],
      "execution_count": 0,
      "outputs": [
        {
          "output_type": "display_data",
          "data": {
            "image/png": "[encoded data removed]",
            "text/plain": [
              "<Figure size 432x288 with 1 Axes>"
            ]
          },
          "metadata": {
            "tags": []
          }
        }
      ]
    },
    {
      "cell_type": "code",
      "metadata": {
        "id": "iNi1gAM7qqux",
        "colab_type": "code",
        "colab": {}
      },
      "source": [
        ""
      ],
      "execution_count": 0,
      "outputs": []
    },
    {
      "cell_type": "markdown",
      "metadata": {
        "id": "U_Gy-2mY4dZu",
        "colab_type": "text"
      },
      "source": [
        "### Tratando valores Missing"
      ]
    },
    {
      "cell_type": "code",
      "metadata": {
        "id": "HUetfKWfe9x-",
        "colab_type": "code",
        "colab": {}
      },
      "source": [
        "df.loc[df['NUMERO_GRAVIDEZ'] > 0, 'NUMERO_GRAVIDEZ'] = 1"
      ],
      "execution_count": 0,
      "outputs": []
    },
    {
      "cell_type": "code",
      "metadata": {
        "id": "Kx6kWMble-KC",
        "colab_type": "code",
        "outputId": "10fdcb4d-d3e7-4b65-f7e1-b66f1a2d18ed",
        "colab": {
          "base_uri": "https://localhost:8080/",
          "height": 35
        }
      },
      "source": [
        "df['NUMERO_GRAVIDEZ'].unique()"
      ],
      "execution_count": 0,
      "outputs": [
        {
          "output_type": "execute_result",
          "data": {
            "text/plain": [
              "array([1, 0])"
            ]
          },
          "metadata": {
            "tags": []
          },
          "execution_count": 18
        }
      ]
    },
    {
      "cell_type": "code",
      "metadata": {
        "id": "O-3lfmaxa5ts",
        "colab_type": "code",
        "outputId": "36d34e11-2c06-404f-837c-89662825ac09",
        "colab": {
          "base_uri": "https://localhost:8080/",
          "height": 53
        }
      },
      "source": [
        "num_true = len(df.loc[df['POSSUI_DIABETES'] == 1])\n",
        "num_false = len(df.loc[df['POSSUI_DIABETES'] == 0])\n",
        "print(\"Número de Casos Verdadeiros: {0} ({1:2.2f}%)\". format(num_true, (num_true / (num_true + num_false)) * 100))\n",
        "print(\"Número de Casos Falsos     : {0} ({1:2.2f}%)\". format(num_false, (num_false / (num_true + num_false)) * 100))"
      ],
      "execution_count": 0,
      "outputs": [
        {
          "output_type": "stream",
          "text": [
            "Número de Casos Verdadeiros: 268 (34.90%)\n",
            "Número de Casos Falsos     : 500 (65.10%)\n"
          ],
          "name": "stdout"
        }
      ]
    },
    {
      "cell_type": "code",
      "metadata": {
        "id": "KVuWlbj2kz5z",
        "colab_type": "code",
        "outputId": "56f2d20e-81b2-4d98-93cc-54fc6fcf471f",
        "colab": {
          "base_uri": "https://localhost:8080/",
          "height": 142
        }
      },
      "source": [
        "print(\"# Linhas no dataframe {0}\".format(len(df)))\n",
        "print(\"# Linhas missing GLICOSE: {0}\".format(len(df.loc[df['GLICOSE'] == 0])))\n",
        "print(\"# Linhas missing PRESSAO_SANGUINEA: {0}\".format(len(df.loc[df['PRESSAO_SANGUINEA'] == 0])))\n",
        "print(\"# Linhas missing ESPESSURA_PELE_TRICEPS: {0}\".format(len(df.loc[df['ESPESSURA_PELE_TRICEPS'] == 0])))\n",
        "print(\"# Linhas missing INSULINA: {0}\".format(len(df.loc[df['INSULINA'] == 0])))\n",
        "print(\"# Linhas missing IMC: {0}\".format(len(df.loc[df['IMC'] == 0])))\n",
        "print(\"# Linhas missing IDADE: {0}\".format(len(df.loc[df['IDADE'] == 0])))"
      ],
      "execution_count": 0,
      "outputs": [
        {
          "output_type": "stream",
          "text": [
            "# Linhas no dataframe 768\n",
            "# Linhas missing GLICOSE: 5\n",
            "# Linhas missing PRESSAO_SANGUINEA: 35\n",
            "# Linhas missing ESPESSURA_PELE_TRICEPS: 227\n",
            "# Linhas missing INSULINA: 374\n",
            "# Linhas missing IMC: 11\n",
            "# Linhas missing IDADE: 0\n"
          ],
          "name": "stdout"
        }
      ]
    },
    {
      "cell_type": "code",
      "metadata": {
        "id": "4nrz3AJfl3pe",
        "colab_type": "code",
        "colab": {}
      },
      "source": [
        "impute_mediana = SimpleImputer(missing_values=0, strategy='median')"
      ],
      "execution_count": 0,
      "outputs": []
    },
    {
      "cell_type": "markdown",
      "metadata": {
        "id": "LahV13Bd4lA9",
        "colab_type": "text"
      },
      "source": [
        "### Separando  os dados para o Treinamento e Validações"
      ]
    },
    {
      "cell_type": "code",
      "metadata": {
        "id": "O7xIgSWcoi26",
        "colab_type": "code",
        "colab": {}
      },
      "source": [
        "x = df.drop('POSSUI_DIABETES', axis = 1).values\n",
        "Y = df['POSSUI_DIABETES'].values"
      ],
      "execution_count": 0,
      "outputs": []
    },
    {
      "cell_type": "code",
      "metadata": {
        "id": "6RGfCyispfcx",
        "colab_type": "code",
        "colab": {}
      },
      "source": [
        "impute_mediana.fit(x)\n",
        "x = impute_mediana.transform(x)"
      ],
      "execution_count": 0,
      "outputs": []
    },
    {
      "cell_type": "code",
      "metadata": {
        "id": "Y0mws1w0qNob",
        "colab_type": "code",
        "outputId": "c56ee5ef-0aec-43b3-baaf-5cb3243d162d",
        "colab": {
          "base_uri": "https://localhost:8080/",
          "height": 142
        }
      },
      "source": [
        "x"
      ],
      "execution_count": 0,
      "outputs": [
        {
          "output_type": "execute_result",
          "data": {
            "text/plain": [
              "array([[  1.   , 148.   ,  72.   , ...,  33.6  ,   0.627,  50.   ],\n",
              "       [  1.   ,  85.   ,  66.   , ...,  26.6  ,   0.351,  31.   ],\n",
              "       [  1.   , 183.   ,  64.   , ...,  23.3  ,   0.672,  32.   ],\n",
              "       ...,\n",
              "       [  1.   , 121.   ,  72.   , ...,  26.2  ,   0.245,  30.   ],\n",
              "       [  1.   , 126.   ,  60.   , ...,  30.1  ,   0.349,  47.   ],\n",
              "       [  1.   ,  93.   ,  70.   , ...,  30.4  ,   0.315,  23.   ]])"
            ]
          },
          "metadata": {
            "tags": []
          },
          "execution_count": 24
        }
      ]
    },
    {
      "cell_type": "code",
      "metadata": {
        "id": "O_ZueTFIrVZs",
        "colab_type": "code",
        "outputId": "4c656d9f-d977-46b3-e5ff-0735b7754db9",
        "colab": {
          "base_uri": "https://localhost:8080/",
          "height": 35
        }
      },
      "source": [
        "x[np.where(x == 0)]       "
      ],
      "execution_count": 0,
      "outputs": [
        {
          "output_type": "execute_result",
          "data": {
            "text/plain": [
              "array([], dtype=float64)"
            ]
          },
          "metadata": {
            "tags": []
          },
          "execution_count": 25
        }
      ]
    },
    {
      "cell_type": "code",
      "metadata": {
        "id": "tUa_lVu-rZvZ",
        "colab_type": "code",
        "colab": {}
      },
      "source": [
        "split_test_size = 0.30\n",
        "SEED = 42\n",
        "X_treino, X_teste, Y_treino, Y_teste = train_test_split(x, Y, test_size = split_test_size, random_state = SEED)"
      ],
      "execution_count": 0,
      "outputs": []
    },
    {
      "cell_type": "code",
      "metadata": {
        "id": "MEkNk0NqteJp",
        "colab_type": "code",
        "outputId": "05c5ed79-a1ef-4fec-d43f-bd28ccee0f0e",
        "colab": {
          "base_uri": "https://localhost:8080/",
          "height": 53
        }
      },
      "source": [
        "print(\"{0:0.2f}% nos dados de treino\".format((len(X_treino)/len(df.index)) * 100))\n",
        "print(\"{0:0.2f}% nos dados de teste\".format((len(X_teste)/len(df.index)) * 100))"
      ],
      "execution_count": 0,
      "outputs": [
        {
          "output_type": "stream",
          "text": [
            "69.92% nos dados de treino\n",
            "30.08% nos dados de teste\n"
          ],
          "name": "stdout"
        }
      ]
    },
    {
      "cell_type": "markdown",
      "metadata": {
        "id": "Uzm9LMzuNMoW",
        "colab_type": "text"
      },
      "source": [
        "# Criando os modelos de ML"
      ]
    },
    {
      "cell_type": "markdown",
      "metadata": {
        "id": "tKWB8yjnOtuM",
        "colab_type": "text"
      },
      "source": [
        "### Naive Bayes"
      ]
    },
    {
      "cell_type": "code",
      "metadata": {
        "id": "xYAdeBnHNPml",
        "colab_type": "code",
        "colab": {}
      },
      "source": [
        "from sklearn.naive_bayes import GaussianNB\n",
        "from sklearn import metrics"
      ],
      "execution_count": 0,
      "outputs": []
    },
    {
      "cell_type": "code",
      "metadata": {
        "id": "RGXyB-esNQtd",
        "colab_type": "code",
        "colab": {}
      },
      "source": [
        "modelo_v1 = GaussianNB()"
      ],
      "execution_count": 0,
      "outputs": []
    },
    {
      "cell_type": "code",
      "metadata": {
        "id": "IFqxGwiCNSzG",
        "colab_type": "code",
        "outputId": "c54dc284-5cb5-4cf1-e2c6-2736f67b76a9",
        "colab": {
          "base_uri": "https://localhost:8080/",
          "height": 35
        }
      },
      "source": [
        "modelo_v1.fit(X_treino, Y_treino.ravel())"
      ],
      "execution_count": 0,
      "outputs": [
        {
          "output_type": "execute_result",
          "data": {
            "text/plain": [
              "GaussianNB(priors=None, var_smoothing=1e-09)"
            ]
          },
          "metadata": {
            "tags": []
          },
          "execution_count": 30
        }
      ]
    },
    {
      "cell_type": "code",
      "metadata": {
        "id": "7dv3ds27NWuO",
        "colab_type": "code",
        "outputId": "7f33fd62-0113-448e-d5f2-5da9a999023f",
        "colab": {
          "base_uri": "https://localhost:8080/",
          "height": 35
        }
      },
      "source": [
        "nb_predict_test = modelo_v1.predict(X_teste)\n",
        "print(\"Exatidão (Accuracy): {0:.4f}\".format(metrics.accuracy_score(Y_teste, nb_predict_test)))"
      ],
      "execution_count": 0,
      "outputs": [
        {
          "output_type": "stream",
          "text": [
            "Exatidão (Accuracy): 0.7403\n"
          ],
          "name": "stdout"
        }
      ]
    },
    {
      "cell_type": "code",
      "metadata": {
        "id": "9PgRTGauNrql",
        "colab_type": "code",
        "outputId": "c5ff294b-16b6-47da-b54a-4e2ef5901fe4",
        "colab": {
          "base_uri": "https://localhost:8080/",
          "height": 267
        }
      },
      "source": [
        "print(\"Confusion Matrix\")\n",
        "\n",
        "print(\"{0}\".format(metrics.confusion_matrix(Y_teste, nb_predict_test, labels = [1, 0])))\n",
        "print(\"\")\n",
        "\n",
        "print(\"Classification Report\")\n",
        "print(metrics.classification_report(Y_teste, nb_predict_test, labels = [1, 0]))"
      ],
      "execution_count": 0,
      "outputs": [
        {
          "output_type": "stream",
          "text": [
            "Confusion Matrix\n",
            "[[ 48  32]\n",
            " [ 28 123]]\n",
            "\n",
            "Classification Report\n",
            "              precision    recall  f1-score   support\n",
            "\n",
            "           1       0.63      0.60      0.62        80\n",
            "           0       0.79      0.81      0.80       151\n",
            "\n",
            "   micro avg       0.74      0.74      0.74       231\n",
            "   macro avg       0.71      0.71      0.71       231\n",
            "weighted avg       0.74      0.74      0.74       231\n",
            "\n"
          ],
          "name": "stdout"
        }
      ]
    },
    {
      "cell_type": "code",
      "metadata": {
        "id": "w0B37Wg3PBVj",
        "colab_type": "code",
        "colab": {}
      },
      "source": [
        ""
      ],
      "execution_count": 0,
      "outputs": []
    },
    {
      "cell_type": "markdown",
      "metadata": {
        "id": "JLvJ9ViiPDps",
        "colab_type": "text"
      },
      "source": [
        "### Random Forest"
      ]
    },
    {
      "cell_type": "code",
      "metadata": {
        "id": "wpMxPHFRPFdL",
        "colab_type": "code",
        "colab": {}
      },
      "source": [
        "from sklearn.ensemble import RandomForestClassifier"
      ],
      "execution_count": 0,
      "outputs": []
    },
    {
      "cell_type": "code",
      "metadata": {
        "id": "J4eptpI4PHf-",
        "colab_type": "code",
        "outputId": "8fc06ce2-d4d1-4575-bcf9-4afdd0c84d90",
        "colab": {
          "base_uri": "https://localhost:8080/",
          "height": 124
        }
      },
      "source": [
        "modelo_v2 = RandomForestClassifier(random_state = 42)\n",
        "modelo_v2.fit(X_treino, Y_treino.ravel())"
      ],
      "execution_count": 0,
      "outputs": [
        {
          "output_type": "execute_result",
          "data": {
            "text/plain": [
              "RandomForestClassifier(bootstrap=True, class_weight=None, criterion='gini',\n",
              "            max_depth=None, max_features='auto', max_leaf_nodes=None,\n",
              "            min_impurity_decrease=0.0, min_impurity_split=None,\n",
              "            min_samples_leaf=1, min_samples_split=2,\n",
              "            min_weight_fraction_leaf=0.0, n_estimators=10, n_jobs=None,\n",
              "            oob_score=False, random_state=42, verbose=0, warm_start=False)"
            ]
          },
          "metadata": {
            "tags": []
          },
          "execution_count": 34
        }
      ]
    },
    {
      "cell_type": "code",
      "metadata": {
        "id": "9ViCEF0fPRc1",
        "colab_type": "code",
        "outputId": "b2ffb867-69fb-4d86-b283-fd34e8e9b566",
        "colab": {
          "base_uri": "https://localhost:8080/",
          "height": 35
        }
      },
      "source": [
        "rf_predict_test = modelo_v2.predict(X_teste)\n",
        "print(\"Exatidão (Accuracy): {0:.4f}\".format(metrics.accuracy_score(Y_teste, rf_predict_test)))"
      ],
      "execution_count": 0,
      "outputs": [
        {
          "output_type": "stream",
          "text": [
            "Exatidão (Accuracy): 0.7446\n"
          ],
          "name": "stdout"
        }
      ]
    },
    {
      "cell_type": "code",
      "metadata": {
        "id": "L2_kemudPWRN",
        "colab_type": "code",
        "outputId": "43761958-a1d3-48f6-f918-55398ec140b3",
        "colab": {
          "base_uri": "https://localhost:8080/",
          "height": 249
        }
      },
      "source": [
        "print(\"Confusion Matrix\")\n",
        "print(\"{0}\".format(metrics.confusion_matrix(Y_teste, rf_predict_test, labels = [1, 0])))\n",
        "\n",
        "print(\"Classification Report\")\n",
        "print(metrics.classification_report(Y_teste, rf_predict_test, labels = [1, 0]))"
      ],
      "execution_count": 0,
      "outputs": [
        {
          "output_type": "stream",
          "text": [
            "Confusion Matrix\n",
            "[[ 46  34]\n",
            " [ 25 126]]\n",
            "Classification Report\n",
            "              precision    recall  f1-score   support\n",
            "\n",
            "           1       0.65      0.57      0.61        80\n",
            "           0       0.79      0.83      0.81       151\n",
            "\n",
            "   micro avg       0.74      0.74      0.74       231\n",
            "   macro avg       0.72      0.70      0.71       231\n",
            "weighted avg       0.74      0.74      0.74       231\n",
            "\n"
          ],
          "name": "stdout"
        }
      ]
    },
    {
      "cell_type": "code",
      "metadata": {
        "id": "992_ZHx8PkY9",
        "colab_type": "code",
        "colab": {}
      },
      "source": [
        ""
      ],
      "execution_count": 0,
      "outputs": []
    },
    {
      "cell_type": "markdown",
      "metadata": {
        "id": "TqFGtgK0QlNI",
        "colab_type": "text"
      },
      "source": [
        "### Regressão Logistica"
      ]
    },
    {
      "cell_type": "code",
      "metadata": {
        "id": "UAORKNqGQnsz",
        "colab_type": "code",
        "colab": {}
      },
      "source": [
        "from sklearn.linear_model import LogisticRegression"
      ],
      "execution_count": 0,
      "outputs": []
    },
    {
      "cell_type": "code",
      "metadata": {
        "id": "9JChTPZmRAL3",
        "colab_type": "code",
        "colab": {}
      },
      "source": [
        "modelo_v3 = LogisticRegression(C = 0.7, random_state = 42)\n",
        "modelo_v3.fit(X_treino, Y_treino.ravel())\n",
        "lr_predict_test = modelo_v3.predict(X_teste)"
      ],
      "execution_count": 0,
      "outputs": []
    },
    {
      "cell_type": "code",
      "metadata": {
        "id": "4PtqI2PkRCz0",
        "colab_type": "code",
        "outputId": "85565832-a4cc-4d61-fe14-ded407e7a343",
        "colab": {
          "base_uri": "https://localhost:8080/",
          "height": 214
        }
      },
      "source": [
        "print(\"Exatidão (Accuracy): {0:.4f}\".format(metrics.accuracy_score(Y_teste, lr_predict_test)))\n",
        "print(\"Classification Report\")\n",
        "print(metrics.classification_report(Y_teste, lr_predict_test, labels = [1, 0]))"
      ],
      "execution_count": 0,
      "outputs": [
        {
          "output_type": "stream",
          "text": [
            "Exatidão (Accuracy): 0.7489\n",
            "Classification Report\n",
            "              precision    recall  f1-score   support\n",
            "\n",
            "           1       0.65      0.59      0.62        80\n",
            "           0       0.79      0.83      0.81       151\n",
            "\n",
            "   micro avg       0.75      0.75      0.75       231\n",
            "   macro avg       0.72      0.71      0.72       231\n",
            "weighted avg       0.74      0.75      0.75       231\n",
            "\n"
          ],
          "name": "stdout"
        }
      ]
    },
    {
      "cell_type": "markdown",
      "metadata": {
        "id": "RPvTT18F5BpH",
        "colab_type": "text"
      },
      "source": [
        "## Exportando modelo treinado para um Arquivo"
      ]
    },
    {
      "cell_type": "code",
      "metadata": {
        "id": "xeDvG5_nRIUl",
        "colab_type": "code",
        "colab": {}
      },
      "source": [
        "from google.colab import files\n",
        "import pickle\n",
        "filename = 'modelo.pkl'\n",
        "pickle.dump(modelo_v3, open(filename, 'wb'))\n",
        "files.download(filename)"
      ],
      "execution_count": 0,
      "outputs": []
    },
    {
      "cell_type": "markdown",
      "metadata": {
        "id": "lHc5FRi55K9S",
        "colab_type": "text"
      },
      "source": [
        "### Fazendo testes com o modelo"
      ]
    },
    {
      "cell_type": "code",
      "metadata": {
        "id": "7K2xZ_nyvwfp",
        "colab_type": "code",
        "outputId": "b9a0779a-480b-466e-ec32-a5b532063428",
        "colab": {
          "base_uri": "https://localhost:8080/",
          "height": 53
        }
      },
      "source": [
        "X_teste[15].reshape(1, -1)"
      ],
      "execution_count": 0,
      "outputs": [
        {
          "output_type": "execute_result",
          "data": {
            "text/plain": [
              "array([[  1.   , 125.   ,  50.   ,  40.   , 167.   ,  33.3  ,   0.962,\n",
              "         28.   ]])"
            ]
          },
          "metadata": {
            "tags": []
          },
          "execution_count": 41
        }
      ]
    },
    {
      "cell_type": "code",
      "metadata": {
        "id": "Vv64AthXvn0a",
        "colab_type": "code",
        "outputId": "ff0c76be-3b78-4924-f967-73b9b86b0421",
        "colab": {
          "base_uri": "https://localhost:8080/",
          "height": 206
        }
      },
      "source": [
        "X_teste[5]\n",
        "df.head()"
      ],
      "execution_count": 0,
      "outputs": [
        {
          "output_type": "execute_result",
          "data": {
            "text/html": [
              "<div>\n",
              "<style scoped>\n",
              "    .dataframe tbody tr th:only-of-type {\n",
              "        vertical-align: middle;\n",
              "    }\n",
              "\n",
              "    .dataframe tbody tr th {\n",
              "        vertical-align: top;\n",
              "    }\n",
              "\n",
              "    .dataframe thead th {\n",
              "        text-align: right;\n",
              "    }\n",
              "</style>\n",
              "<table border=\"1\" class=\"dataframe\">\n",
              "  <thead>\n",
              "    <tr style=\"text-align: right;\">\n",
              "      <th></th>\n",
              "      <th>NUMERO_GRAVIDEZ</th>\n",
              "      <th>GLICOSE</th>\n",
              "      <th>PRESSAO_SANGUINEA</th>\n",
              "      <th>ESPESSURA_PELE_TRICEPS</th>\n",
              "      <th>INSULINA</th>\n",
              "      <th>IMC</th>\n",
              "      <th>FUNCAO_DIABETES</th>\n",
              "      <th>IDADE</th>\n",
              "      <th>POSSUI_DIABETES</th>\n",
              "    </tr>\n",
              "  </thead>\n",
              "  <tbody>\n",
              "    <tr>\n",
              "      <th>0</th>\n",
              "      <td>1</td>\n",
              "      <td>148</td>\n",
              "      <td>72</td>\n",
              "      <td>35</td>\n",
              "      <td>0</td>\n",
              "      <td>33.6</td>\n",
              "      <td>0.627</td>\n",
              "      <td>50</td>\n",
              "      <td>1</td>\n",
              "    </tr>\n",
              "    <tr>\n",
              "      <th>1</th>\n",
              "      <td>1</td>\n",
              "      <td>85</td>\n",
              "      <td>66</td>\n",
              "      <td>29</td>\n",
              "      <td>0</td>\n",
              "      <td>26.6</td>\n",
              "      <td>0.351</td>\n",
              "      <td>31</td>\n",
              "      <td>0</td>\n",
              "    </tr>\n",
              "    <tr>\n",
              "      <th>2</th>\n",
              "      <td>1</td>\n",
              "      <td>183</td>\n",
              "      <td>64</td>\n",
              "      <td>0</td>\n",
              "      <td>0</td>\n",
              "      <td>23.3</td>\n",
              "      <td>0.672</td>\n",
              "      <td>32</td>\n",
              "      <td>1</td>\n",
              "    </tr>\n",
              "    <tr>\n",
              "      <th>3</th>\n",
              "      <td>1</td>\n",
              "      <td>89</td>\n",
              "      <td>66</td>\n",
              "      <td>23</td>\n",
              "      <td>94</td>\n",
              "      <td>28.1</td>\n",
              "      <td>0.167</td>\n",
              "      <td>21</td>\n",
              "      <td>0</td>\n",
              "    </tr>\n",
              "    <tr>\n",
              "      <th>4</th>\n",
              "      <td>0</td>\n",
              "      <td>137</td>\n",
              "      <td>40</td>\n",
              "      <td>35</td>\n",
              "      <td>168</td>\n",
              "      <td>43.1</td>\n",
              "      <td>2.288</td>\n",
              "      <td>33</td>\n",
              "      <td>1</td>\n",
              "    </tr>\n",
              "  </tbody>\n",
              "</table>\n",
              "</div>"
            ],
            "text/plain": [
              "   NUMERO_GRAVIDEZ  GLICOSE  PRESSAO_SANGUINEA  ESPESSURA_PELE_TRICEPS  \\\n",
              "0                1      148                 72                      35   \n",
              "1                1       85                 66                      29   \n",
              "2                1      183                 64                       0   \n",
              "3                1       89                 66                      23   \n",
              "4                0      137                 40                      35   \n",
              "\n",
              "   INSULINA   IMC  FUNCAO_DIABETES  IDADE  POSSUI_DIABETES  \n",
              "0         0  33.6            0.627     50                1  \n",
              "1         0  26.6            0.351     31                0  \n",
              "2         0  23.3            0.672     32                1  \n",
              "3        94  28.1            0.167     21                0  \n",
              "4       168  43.1            2.288     33                1  "
            ]
          },
          "metadata": {
            "tags": []
          },
          "execution_count": 42
        }
      ]
    },
    {
      "cell_type": "code",
      "metadata": {
        "id": "zSlxdF4-OwEg",
        "colab_type": "code",
        "colab": {}
      },
      "source": [
        "dic = {'NUMERO_GRAVIDEZ': 1, 'GLICOSE': 103, 'PRESSAO_SANGUINEA': 72, \n",
        " 'ESPESSURA_PELE_TRICEPS': 32, 'INSULINA': 190, 'IMC': 37.7, 'FUNCAO_DIABETES': 0.324, 'IDADE': 55}"
      ],
      "execution_count": 0,
      "outputs": []
    },
    {
      "cell_type": "code",
      "metadata": {
        "id": "nVYyw5hiPPdt",
        "colab_type": "code",
        "colab": {}
      },
      "source": [
        "a = np.array([list(dic.values())])"
      ],
      "execution_count": 0,
      "outputs": []
    },
    {
      "cell_type": "code",
      "metadata": {
        "id": "LRqI_kMjPUv0",
        "colab_type": "code",
        "outputId": "9d142ab9-f3f2-4535-9cb0-bfd13d73d94d",
        "colab": {
          "base_uri": "https://localhost:8080/",
          "height": 53
        }
      },
      "source": [
        "a"
      ],
      "execution_count": 0,
      "outputs": [
        {
          "output_type": "execute_result",
          "data": {
            "text/plain": [
              "array([[  1.   , 103.   ,  72.   ,  32.   , 190.   ,  37.7  ,   0.324,\n",
              "         55.   ]])"
            ]
          },
          "metadata": {
            "tags": []
          },
          "execution_count": 45
        }
      ]
    },
    {
      "cell_type": "code",
      "metadata": {
        "id": "TdIazXguPaGe",
        "colab_type": "code",
        "outputId": "9b35d6c2-a86b-435f-d92c-92fe8be8968d",
        "colab": {
          "base_uri": "https://localhost:8080/",
          "height": 35
        }
      },
      "source": [
        "modelo_v3.predict(a)"
      ],
      "execution_count": 0,
      "outputs": [
        {
          "output_type": "execute_result",
          "data": {
            "text/plain": [
              "array([0])"
            ]
          },
          "metadata": {
            "tags": []
          },
          "execution_count": 46
        }
      ]
    },
    {
      "cell_type": "code",
      "metadata": {
        "id": "Dg0ezHQfQBq3",
        "colab_type": "code",
        "colab": {}
      },
      "source": [
        ""
      ],
      "execution_count": 0,
      "outputs": []
    }
  ]
}